{
 "cells": [
  {
   "cell_type": "markdown",
   "id": "742adba1-54cd-47b6-b445-d82cb2250c64",
   "metadata": {},
   "source": [
    "# Template Notebook for Milestones\n",
    "\n",
    "In this notebook you will write your code, producing the required output for each Milestone.\n",
    "\n",
    "Your notebook must contain 3 types of cells:\n",
    "\n",
    "- (1) Code cells: Cells that contain code snippets, capturing one cohesive fragment of your code.\n",
    "\n",
    "- (2) Corresponding explanation cells: Each code cell must be followed by a text cell containing the **English** explanation of what the corresponding code cell does and what it's purpose is\n",
    "\n",
    "- (3) One reflection cell: One cell at the bottom of the notebook that contains your individual reflection on your process working on this milestones in **English**. It could contain technical problems and how you overcame them, it could contain social problems and how you deal with them (group work is hard!), it could contain explanations of prior skills or knowledge that made certain parts of the task easier for you, etc... (those are just suggestions. Your individual reflections will of course contain different/additional aspects)"
   ]
  },
  {
   "cell_type": "code",
   "execution_count": 1,
   "id": "c90adcdd",
   "metadata": {},
   "outputs": [],
   "source": [
    "import ir_datasets\n",
    "from ir_datasets.formats import JsonlDocs, TrecXmlQueries, TrecQrels\n",
    "from typing import NamedTuple, Dict\n",
    "from ir_datasets.datasets.base import Dataset"
   ]
  },
  {
   "cell_type": "markdown",
   "id": "f8a97606",
   "metadata": {},
   "source": [
    "# Imports\n",
    "The code cell above imports the necessary libraries to be used. The main library utilized here is **'ir_datasets'** which processes the dataset directly. The other library is **'typing'**, a standard Python library used to create a **'NamedTuple'**."
   ]
  },
  {
   "cell_type": "code",
   "execution_count": null,
   "id": "effe569a",
   "metadata": {},
   "outputs": [],
   "source": [
    "class IrAntologyData(NamedTuple):\n",
    "    doc_id: str\n",
    "    title: str\n",
    "    abstract: str\n",
    "    \n",
    "    def default_text(self):\n",
    "        return self.title"
   ]
  },
  {
   "cell_type": "markdown",
   "id": "e4560fbb",
   "metadata": {},
   "source": [
    "# Class Creation\n",
    "This code defines a **'NamedTuple'** called **'IrAntologyData'** with three fields: **'doc_id'**, **'title'**, and **'abstract'**. A **'NamedTuple'** is a type of tuple that allows you to refer to the fields by name instead of index.\n",
    "\n",
    "The **'IrAntologyData NamedTuple'** also includes a method called **'default_text()'** that returns the title field. The **'default_text()'** method is used as a default value for text fields in certain parts of the code.\n",
    "\n",
    "This **'NamedTuple'** can be used to represent a document in a dataset, with **'doc_id'** being the unique identifier for the document, title being the title of the document, and abstract being the summary of the document."
   ]
  },
  {
   "cell_type": "code",
   "execution_count": null,
   "id": "274797fb",
   "metadata": {},
   "outputs": [],
   "source": [
    "ir_datasets.registry.register('iranthology-lucky-coincidence', Dataset(\n",
    "    JsonlDocs(ir_datasets.util.PackageDataFile(path='datasets_in_progress/ir-anthology-07-11-2021-ss23.jsonl'), doc_cls=IrAntologyData, lang='en'),\n",
    "    TrecXmlQueries(ir_datasets.util.PackageDataFile(path='datasets_in_progress/topics.xml'), lang='en'),\n",
    "    TrecQrels(ir_datasets.util.PackageDataFile(path='datasets_in_progress/qrels.txt'), {0:'Not Relevant', 1:'Relevant'})\n",
    "))"
   ]
  },
  {
   "cell_type": "markdown",
   "id": "e42498dc",
   "metadata": {},
   "source": [
    "# Registering IR Dataset\n",
    "This code registers a new dataset in the **'ir_datasets'** registry called **'iranthology-lucky-coincidence'**. The dataset is created from JSONL documents and TREC XML queries, with **'IrAntologyData'** as the document class and English as the language."
   ]
  },
  {
   "cell_type": "markdown",
   "id": "b1f614e3-7fe6-4d84-9f25-47fc9b341ccb",
   "metadata": {},
   "source": [
    "# Reflection\n",
    "\n",
    "Working on this project was difficult and confusing in some parts. While it was relatively simple to go through the steps of creating a new .jsonl dataset and topics in .xml format, we were challenged by the assignment in parts where we had to use Docker and TIRA. We have never created a Dockerfile before and ran into a lot of problems trying to utilize the ir_datasets library and building a Docker image. And due to our time limit of less than one week and very limited amount of contact with the experts, we had to rely a lot on doing independent trial and error."
   ]
  }
 ],
 "metadata": {
  "kernelspec": {
   "display_name": "Python 3 (ipykernel)",
   "language": "python",
   "name": "python3"
  },
  "language_info": {
   "codemirror_mode": {
    "name": "ipython",
    "version": 3
   },
   "file_extension": ".py",
   "mimetype": "text/x-python",
   "name": "python",
   "nbconvert_exporter": "python",
   "pygments_lexer": "ipython3",
   "version": "3.8.10"
  }
 },
 "nbformat": 4,
 "nbformat_minor": 5
}
